{
 "cells": [
  {
   "cell_type": "markdown",
   "id": "1a438d80",
   "metadata": {},
   "source": [
    "# Assign a friend attribute to a virtual population\n",
    "\n",
    "\n",
    "Code to create a friend list for irregular contact with a virtual population endowed with education and economic attributes.\n",
    "\n",
    "\n",
    "Need \"synthetic_population_info.csv\"\n",
    "\n",
    "---------\n",
    " \n",
    "Time required: 25 minutes total"
   ]
  },
  {
   "cell_type": "markdown",
   "id": "64d65b8a",
   "metadata": {},
   "source": [
    "# declare Package, read CSV file\n",
    "\n",
    "1. synthetic_population_info.csv : data with education+economic information created by synthetic_population_info-final"
   ]
  },
  {
   "cell_type": "code",
   "execution_count": 1,
   "id": "92dc94cc",
   "metadata": {},
   "outputs": [],
   "source": [
    "using Printf\n",
    "using Plots\n",
    "using CSV\n",
    "using DataFrames\n",
    "using StatsBase\n",
    "using Statistics\n",
    "using LightGraphs"
   ]
  },
  {
   "cell_type": "code",
   "execution_count": 2,
   "id": "cd4498b0",
   "metadata": {},
   "outputs": [
    {
     "data": {
      "text/html": [
       "<div><div style = \"float: left;\"><span>5×10 DataFrame</span></div><div style = \"clear: both;\"></div></div><div class = \"data-frame\" style = \"overflow-x: scroll;\"><table class = \"data-frame\" style = \"margin-bottom: 6px;\"><thead><tr class = \"header\"><th class = \"rowNumber\" style = \"font-weight: bold; text-align: right;\">Row</th><th style = \"text-align: left;\">house_id</th><th style = \"text-align: left;\">region_code</th><th style = \"text-align: left;\">age</th><th style = \"text-align: left;\">pre</th><th style = \"text-align: left;\">elementary</th><th style = \"text-align: left;\">junior</th><th style = \"text-align: left;\">high</th><th style = \"text-align: left;\">economic_region</th><th style = \"text-align: left;\">office</th><th style = \"text-align: left;\">person_id</th></tr><tr class = \"subheader headerLastRow\"><th class = \"rowNumber\" style = \"font-weight: bold; text-align: right;\"></th><th title = \"Int64\" style = \"text-align: left;\">Int64</th><th title = \"Int64\" style = \"text-align: left;\">Int64</th><th title = \"Int64\" style = \"text-align: left;\">Int64</th><th title = \"Int64\" style = \"text-align: left;\">Int64</th><th title = \"Int64\" style = \"text-align: left;\">Int64</th><th title = \"Int64\" style = \"text-align: left;\">Int64</th><th title = \"Int64\" style = \"text-align: left;\">Int64</th><th title = \"Int64\" style = \"text-align: left;\">Int64</th><th title = \"Int64\" style = \"text-align: left;\">Int64</th><th title = \"Int64\" style = \"text-align: left;\">Int64</th></tr></thead><tbody><tr><td class = \"rowNumber\" style = \"font-weight: bold; text-align: right;\">1</td><td style = \"text-align: right;\">1</td><td style = \"text-align: right;\">168</td><td style = \"text-align: right;\">63</td><td style = \"text-align: right;\">0</td><td style = \"text-align: right;\">0</td><td style = \"text-align: right;\">0</td><td style = \"text-align: right;\">0</td><td style = \"text-align: right;\">168</td><td style = \"text-align: right;\">3584990</td><td style = \"text-align: right;\">1</td></tr><tr><td class = \"rowNumber\" style = \"font-weight: bold; text-align: right;\">2</td><td style = \"text-align: right;\">1</td><td style = \"text-align: right;\">168</td><td style = \"text-align: right;\">85</td><td style = \"text-align: right;\">0</td><td style = \"text-align: right;\">0</td><td style = \"text-align: right;\">0</td><td style = \"text-align: right;\">0</td><td style = \"text-align: right;\">0</td><td style = \"text-align: right;\">0</td><td style = \"text-align: right;\">2</td></tr><tr><td class = \"rowNumber\" style = \"font-weight: bold; text-align: right;\">3</td><td style = \"text-align: right;\">2</td><td style = \"text-align: right;\">168</td><td style = \"text-align: right;\">63</td><td style = \"text-align: right;\">0</td><td style = \"text-align: right;\">0</td><td style = \"text-align: right;\">0</td><td style = \"text-align: right;\">0</td><td style = \"text-align: right;\">168</td><td style = \"text-align: right;\">3578518</td><td style = \"text-align: right;\">3</td></tr><tr><td class = \"rowNumber\" style = \"font-weight: bold; text-align: right;\">4</td><td style = \"text-align: right;\">2</td><td style = \"text-align: right;\">168</td><td style = \"text-align: right;\">85</td><td style = \"text-align: right;\">0</td><td style = \"text-align: right;\">0</td><td style = \"text-align: right;\">0</td><td style = \"text-align: right;\">0</td><td style = \"text-align: right;\">0</td><td style = \"text-align: right;\">0</td><td style = \"text-align: right;\">4</td></tr><tr><td class = \"rowNumber\" style = \"font-weight: bold; text-align: right;\">5</td><td style = \"text-align: right;\">3</td><td style = \"text-align: right;\">168</td><td style = \"text-align: right;\">63</td><td style = \"text-align: right;\">0</td><td style = \"text-align: right;\">0</td><td style = \"text-align: right;\">0</td><td style = \"text-align: right;\">0</td><td style = \"text-align: right;\">168</td><td style = \"text-align: right;\">3568330</td><td style = \"text-align: right;\">5</td></tr></tbody></table></div>"
      ],
      "text/latex": [
       "\\begin{tabular}{r|ccccccccc}\n",
       "\t& house\\_id & region\\_code & age & pre & elementary & junior & high & economic\\_region & \\\\\n",
       "\t\\hline\n",
       "\t& Int64 & Int64 & Int64 & Int64 & Int64 & Int64 & Int64 & Int64 & \\\\\n",
       "\t\\hline\n",
       "\t1 & 1 & 168 & 63 & 0 & 0 & 0 & 0 & 168 & $\\dots$ \\\\\n",
       "\t2 & 1 & 168 & 85 & 0 & 0 & 0 & 0 & 0 & $\\dots$ \\\\\n",
       "\t3 & 2 & 168 & 63 & 0 & 0 & 0 & 0 & 168 & $\\dots$ \\\\\n",
       "\t4 & 2 & 168 & 85 & 0 & 0 & 0 & 0 & 0 & $\\dots$ \\\\\n",
       "\t5 & 3 & 168 & 63 & 0 & 0 & 0 & 0 & 168 & $\\dots$ \\\\\n",
       "\\end{tabular}\n"
      ],
      "text/plain": [
       "\u001b[1m5×10 DataFrame\u001b[0m\n",
       "\u001b[1m Row \u001b[0m│\u001b[1m house_id \u001b[0m\u001b[1m region_code \u001b[0m\u001b[1m age   \u001b[0m\u001b[1m pre   \u001b[0m\u001b[1m elementary \u001b[0m\u001b[1m junior \u001b[0m\u001b[1m high  \u001b[0m\u001b[1m economi\u001b[0m ⋯\n",
       "     │\u001b[90m Int64    \u001b[0m\u001b[90m Int64       \u001b[0m\u001b[90m Int64 \u001b[0m\u001b[90m Int64 \u001b[0m\u001b[90m Int64      \u001b[0m\u001b[90m Int64  \u001b[0m\u001b[90m Int64 \u001b[0m\u001b[90m Int64  \u001b[0m ⋯\n",
       "─────┼──────────────────────────────────────────────────────────────────────────\n",
       "   1 │        1          168     63      0           0       0      0          ⋯\n",
       "   2 │        1          168     85      0           0       0      0\n",
       "   3 │        2          168     63      0           0       0      0\n",
       "   4 │        2          168     85      0           0       0      0\n",
       "   5 │        3          168     63      0           0       0      0          ⋯\n",
       "\u001b[36m                                                               3 columns omitted\u001b[0m"
      ]
     },
     "execution_count": 2,
     "metadata": {},
     "output_type": "execute_result"
    }
   ],
   "source": [
    "# read csv file, 51m individuals\n",
    "\n",
    "df = DataFrame(CSV.File(\"./synthetic_population_info.csv\"))\n",
    "first(df, 5)"
   ]
  },
  {
   "cell_type": "code",
   "execution_count": 3,
   "id": "8a9d033c",
   "metadata": {},
   "outputs": [
    {
     "name": "stdout",
     "output_type": "stream",
     "text": [
      "\u001b[1m5×14 DataFrame\u001b[0m\n",
      "\u001b[1m Row \u001b[0m│\u001b[1m house_id \u001b[0m\u001b[1m region_code \u001b[0m\u001b[1m age   \u001b[0m\u001b[1m pre   \u001b[0m\u001b[1m elementary \u001b[0m\u001b[1m junior \u001b[0m\u001b[1m high  \u001b[0m\u001b[1m economic_region \u001b[0m\u001b[1m office  \u001b[0m\u001b[1m person_id \u001b[0m\u001b[1m friends \u001b[0m\u001b[1m group \u001b[0m\u001b[1m group2 \u001b[0m\u001b[1m group3 \u001b[0m\n",
      "     │\u001b[90m Int64    \u001b[0m\u001b[90m Int64       \u001b[0m\u001b[90m Int64 \u001b[0m\u001b[90m Int64 \u001b[0m\u001b[90m Int64      \u001b[0m\u001b[90m Int64  \u001b[0m\u001b[90m Int64 \u001b[0m\u001b[90m Int64           \u001b[0m\u001b[90m Int64   \u001b[0m\u001b[90m Int64     \u001b[0m\u001b[90m Array…  \u001b[0m\u001b[90m Int64 \u001b[0m\u001b[90m Int64  \u001b[0m\u001b[90m Int64  \u001b[0m\n",
      "─────┼─────────────────────────────────────────────────────────────────────────────────────────────────────────────────────────────────────\n",
      "   1 │        1          168     63      0           0       0      0              168  3584990          1  Int64[]      0       0       0\n",
      "   2 │        1          168     85      0           0       0      0                0        0          2  Int64[]      0       0       0\n",
      "   3 │        2          168     63      0           0       0      0              168  3578518          3  Int64[]      0       0       0\n",
      "   4 │        2          168     85      0           0       0      0                0        0          4  Int64[]      0       0       0\n",
      "   5 │        3          168     63      0           0       0      0              168  3568330          5  Int64[]      0       0       0"
     ]
    }
   ],
   "source": [
    "# dataframe[!, :\"column_name\"] = values\n",
    "\n",
    "df.person_id .= 1:nrow(df)\n",
    "df[!, :\"friends\"] .= [Vector{Int64}()] #[Array{Int64,1}()]\n",
    "df[!, :\"group\"] .= 0   # adults group (region + age group (10y))\n",
    "df[!, :\"group2\"] .= 0  # minors group1  (region + age at the same institution)\n",
    "df[!, :\"group3\"] .= 0  # minors group2 (region + school (10 classes))\n",
    "\n",
    "show(df[1:5,:], allcols=true)"
   ]
  },
  {
   "cell_type": "markdown",
   "id": "b4797581",
   "metadata": {},
   "source": [
    "# Make Friends' List"
   ]
  },
  {
   "cell_type": "code",
   "execution_count": 4,
   "id": "8b8f8d78",
   "metadata": {},
   "outputs": [
    {
     "data": {
      "text/plain": [
       "Make_Barabasi_Networks (generic function with 1 method)"
      ]
     },
     "execution_count": 4,
     "metadata": {},
     "output_type": "execute_result"
    }
   ],
   "source": [
    "function Make_Barabasi_Networks(n_, id_, k_, n0_)\n",
    "\n",
    "    # k_: initial link # (edge = link)    : k =< n0 (edge < node)\n",
    "    # n0_: initial node # (vertex = node)  \n",
    "    g0 = cycle_graph(n0_)\n",
    "    \n",
    "    # Barabasi Albert Network\n",
    "    g = Matrix(adjacency_matrix(barabasi_albert!(g0, n_, k_)))\n",
    "    rows, cols = size(g)\n",
    "\n",
    "    g2 = [];\n",
    "    for i in 1:rows\n",
    "        push!(g2, findall(g[i, :] .== 1))\n",
    "    end\n",
    "    \n",
    "    # Replace index with person id\n",
    "    g3 = deepcopy(g2)\n",
    "    for i in 1:length(g2)\n",
    "        cols = length(g2[i])\n",
    "        for j in 1:cols\n",
    "            g3[i][j] = id_[g2[i][j]]\n",
    "        end\n",
    "    end\n",
    "    \n",
    "    return g3    \n",
    "end"
   ]
  },
  {
   "cell_type": "code",
   "execution_count": 5,
   "id": "28a98761",
   "metadata": {},
   "outputs": [
    {
     "data": {
      "text/plain": [
       "Make_Barabasi_Networks_p09 (generic function with 1 method)"
      ]
     },
     "execution_count": 5,
     "metadata": {},
     "output_type": "execute_result"
    }
   ],
   "source": [
    "# start with 90% randomized connections when first starting up\n",
    "# create a network where the average value of link is n_*0.9\n",
    "\n",
    "function Make_Barabasi_Networks_p09(n_, id_)\n",
    "    \n",
    "    # k_: initial link # (edge = link)    : k =< n0 (edge < node) : Number of links to increase\n",
    "    # n0_: initial node # (vertex = node) \n",
    "    \n",
    "    k_ = ceil(Int64, n_*0.9/2)\n",
    "    n0 = k_\n",
    "    k0 = ceil(Int64, n0*(n0-1)/2*0.9)\n",
    "    \n",
    "    g0 = SimpleGraph(n0, k0)\n",
    "    g = Matrix(adjacency_matrix(barabasi_albert!(g0, n_, k_)))\n",
    "    rows, cols = size(g)\n",
    "    \n",
    "    g2 = [];\n",
    "    for i in 1:rows\n",
    "        push!(g2, findall(g[i, :] .== 1))\n",
    "    end\n",
    "    \n",
    "    # Replace index with person id\n",
    "    g3 = deepcopy(g2)\n",
    "    for i in 1:length(g2)\n",
    "        cols = length(g2[i])\n",
    "        for j in 1:cols\n",
    "            g3[i][j] = id_[g2[i][j]]\n",
    "        end\n",
    "    end\n",
    "    \n",
    "    return g3    \n",
    "end"
   ]
  },
  {
   "cell_type": "markdown",
   "id": "58112721",
   "metadata": {},
   "source": [
    "## 19 and older.\n",
    "\n",
    "Put the 19-year-olds in the 20s group.\n",
    "1. group people by 200. (region + age 10 years)\n",
    "2. configure barabasi network. (scale free network) : N = 200, node = 15, link = 10"
   ]
  },
  {
   "cell_type": "code",
   "execution_count": 6,
   "id": "1d81a81e",
   "metadata": {},
   "outputs": [
    {
     "name": "stdout",
     "output_type": "stream",
     "text": [
      "\u001b[1m2×15 DataFrame\u001b[0m\n",
      "\u001b[1m Row \u001b[0m│\u001b[1m house_id \u001b[0m\u001b[1m region_code \u001b[0m\u001b[1m age   \u001b[0m\u001b[1m pre   \u001b[0m\u001b[1m elementary \u001b[0m\u001b[1m junior \u001b[0m\u001b[1m high  \u001b[0m\u001b[1m economic_region \u001b[0m\u001b[1m office  \u001b[0m\u001b[1m person_id \u001b[0m\u001b[1m friends \u001b[0m\u001b[1m group \u001b[0m\u001b[1m group2 \u001b[0m\u001b[1m group3 \u001b[0m\u001b[1m age_group \u001b[0m\n",
      "     │\u001b[90m Int64    \u001b[0m\u001b[90m Int64       \u001b[0m\u001b[90m Int64 \u001b[0m\u001b[90m Int64 \u001b[0m\u001b[90m Int64      \u001b[0m\u001b[90m Int64  \u001b[0m\u001b[90m Int64 \u001b[0m\u001b[90m Int64           \u001b[0m\u001b[90m Int64   \u001b[0m\u001b[90m Int64     \u001b[0m\u001b[90m Array…  \u001b[0m\u001b[90m Int64 \u001b[0m\u001b[90m Int64  \u001b[0m\u001b[90m Int64  \u001b[0m\u001b[90m Int64     \u001b[0m\n",
      "─────┼────────────────────────────────────────────────────────────────────────────────────────────────────────────────────────────────────────────────\n",
      "   1 │        1          168     63      0           0       0      0              168  3584990          1  Int64[]      0       0       0          7\n",
      "   2 │        1          168     85      0           0       0      0                0        0          2  Int64[]      0       0       0          9"
     ]
    }
   ],
   "source": [
    "# Create an age_group by grouping ages into 10-year intervals.\n",
    "# This step takes longer than you might think\n",
    "\n",
    "df = transform(df, :age => ByRow(x -> searchsortedlast(vcat(0:10:90, 1000), x)) => :age_group);\n",
    "show(df[1:2,:], allcols=true)"
   ]
  },
  {
   "cell_type": "code",
   "execution_count": 7,
   "id": "a1182fc2",
   "metadata": {},
   "outputs": [
    {
     "name": "stdout",
     "output_type": "stream",
     "text": [
      " \n"
     ]
    }
   ],
   "source": [
    "# Put 19-year-olds in the 20-29 age group.\n",
    "\n",
    "df[df[(df.age .== 19), :person_id], :age_group] .= 3\n",
    "println(\" \")"
   ]
  },
  {
   "cell_type": "code",
   "execution_count": 8,
   "id": "1003b016",
   "metadata": {},
   "outputs": [],
   "source": [
    "# group 200 people by age group (10y) + region.\n",
    "\n",
    "# After grouping by region + age, divide by 200 to get the number of groups needed.\n",
    "# Group the population by assigning each person a random number from 1 to the number of groups.\n",
    "# Minors are given group = 0. (Minors will be grouped by the age at the same institution)\n",
    "\n",
    "\n",
    "max_group = 200\n",
    "n_max = 0\n",
    "\n",
    "# Let's start by grouping them by region and age.\n",
    "A = groupby(df, [:region_code, :age_group])\n",
    "count = length(A)\n",
    "\n",
    "for i in 1:count\n",
    "    df_tmp = A[i]\n",
    "\n",
    "    if df_tmp[1, :age_group] >= 3\n",
    "        n = nrow(df_tmp)\n",
    "        n_group = n ÷ max_group\n",
    "        n_group = (n_group < 1 ? 1 : n_group)\n",
    "\n",
    "        df_tmp[:, :group] .= (rand((1:n_group), n) .+ n_max)\n",
    "        n_max = maximum(df_tmp[:, :group])\n",
    "    end\n",
    "    \n",
    "    df_tmp = nothing\n",
    "end\n",
    "\n",
    "A = nothing"
   ]
  },
  {
   "cell_type": "code",
   "execution_count": 9,
   "id": "3b28aac9",
   "metadata": {},
   "outputs": [
    {
     "name": "stdout",
     "output_type": "stream",
     "text": [
      "총 성인의 network group = 218097\n"
     ]
    }
   ],
   "source": [
    "# Create a list of adults and friends\n",
    "df[!, :\"order\"] .= 0\n",
    "\n",
    "A = groupby(df, :group)\n",
    "count = length(A)\n",
    "\n",
    "#  Reason for starting i at 2: i = 1 means group = 0 (this group is minors)\n",
    "for i in 2:count    \n",
    "    df_tmp = A[i]\n",
    "    n = nrow(A[i])\n",
    "    id0 = df_tmp[:, :person_id]\n",
    "    \n",
    "    # shuffle\n",
    "    df_tmp[:, :order] .= rand((1:2*n), n)\n",
    "    df_tmp = sort(df_tmp, [:order, :office])\n",
    "    id = df_tmp[:, :person_id]\n",
    "    \n",
    "    if n != sum(id0 .== sort(id))\n",
    "        println(\" ERROR **\")\n",
    "    end\n",
    "  \n",
    "    # Generate Network\n",
    "    list = Make_Barabasi_Networks(n, id, 10, 15)\n",
    "\n",
    "    # Save to the friends list\n",
    "    df[id, :friends] .= list\n",
    "\n",
    "    df_tmp = nothing\n",
    "end\n",
    "\n",
    "select!(df, Not(:order))\n",
    "A = nothing"
   ]
  },
  {
   "cell_type": "markdown",
   "id": "d3c53963",
   "metadata": {},
   "source": [
    "## Under 20 years old (minors).\n",
    "\n",
    "0-2 year olds have friends X\n",
    "\n",
    "### Friends not in school + Friends in school\n",
    "0. Basically the same method as for adults.\n",
    "1. group them by 200 people. (region + same institution age)\n",
    "2. organize barabasi network. (scale free network) : N = 200, node = 15, link = 10\n",
    "\n",
    "### Friends at school\n",
    "0. Friends made by the above method\n",
    "1. configure the barabasi network so that most people in the class are friends: 90% of the class is connected.\n",
    "2. combine 10 classes, then mix 10 classes again. (like a school) : so that the whole is 90% connected."
   ]
  },
  {
   "cell_type": "code",
   "execution_count": 11,
   "id": "e0c8885b",
   "metadata": {},
   "outputs": [],
   "source": [
    "# Group 200 people together by region + same institutional age.\n",
    "# Each population was grouped by assigning them a random number from 1 to the number of groups.\n",
    "# Maximum number of people to be in a group (some fluctuation here, if 247 is the entire population, put them all in one group)\n",
    "\n",
    "max_group = 200\n",
    "n_max = 0\n",
    "\n",
    "# Kindergarten, elementary, junior, and high school\n",
    "for cols in 1:4    \n",
    "    if cols == 1 \n",
    "        n_st = 3; n_fi = 6\n",
    "    elseif cols == 2\n",
    "        n_st = 7; n_fi = 12\n",
    "    elseif cols == 3\n",
    "        n_st = 13; n_fi = 15        \n",
    "    elseif cols == 4\n",
    "        n_st = 16; n_fi = 18\n",
    "    end\n",
    "    \n",
    "    # region\n",
    "    for rc in 1:250\n",
    "        id = df[(df.region_code .== rc) .& (n_st .<= df.age .<= n_fi), :person_id]\n",
    "        n = length(id)\n",
    "        \n",
    "        # Generate Network\n",
    "        if n != 0\n",
    "            n_group = n ÷ max_group\n",
    "            n_group = (n_group < 1 ? 1 : n_group)\n",
    "                \n",
    "            df[id, :group2] .= (rand((1:n_group), n) .+ n_max)\n",
    "            n_max = maximum(df[id, :group2])\n",
    "        end\n",
    "    end\n",
    "end"
   ]
  },
  {
   "cell_type": "code",
   "execution_count": 12,
   "id": "0cbe662d",
   "metadata": {},
   "outputs": [
    {
     "name": "stdout",
     "output_type": "stream",
     "text": [
      "총 학생의 network group = 35050\n"
     ]
    }
   ],
   "source": [
    "# Create a list of students and friends (Step 1)\n",
    "# 200 kids, grouped by the same institution\n",
    "\n",
    "df[!, :\"order\"] .= 0\n",
    "\n",
    "A = groupby(df, :group2)\n",
    "count = length(A)\n",
    "\n",
    "# Reason for starting i at 2: i = 1 means group = 0\n",
    "for i in 2:count\n",
    "    df_tmp = A[i]\n",
    "    n = nrow(A[i])\n",
    "    id0 = df_tmp[:, :person_id]\n",
    "    \n",
    "    # shuffle\n",
    "    df_tmp[:, :order] .= rand((1:2*n), n)\n",
    "    df_tmp = sort(df_tmp, [:order])\n",
    "    id = df_tmp[:, :person_id]\n",
    "    \n",
    "    if n != sum(id0 .== sort(id))\n",
    "        println(\" ERROR **\")\n",
    "    end\n",
    "  \n",
    "    # Generate Network\n",
    "    list = Make_Barabasi_Networks(n, id, 10, 15)\n",
    "\n",
    "    # Save to the friends list\n",
    "    df[id, :friends] .= list\n",
    "\n",
    "    df_tmp = nothing\n",
    "end\n",
    "\n",
    "select!(df, Not(:order))\n",
    "A = nothing"
   ]
  },
  {
   "cell_type": "code",
   "execution_count": 13,
   "id": "c8c9254d",
   "metadata": {},
   "outputs": [
    {
     "name": "stdout",
     "output_type": "stream",
     "text": [
      "edu = 4 : 총 class group = 35401\n",
      "edu = 5 : 총 class group = 121894\n",
      "edu = 6 : 총 class group = 54973\n",
      "edu = 7 : 총 class group = 57840\n"
     ]
    }
   ],
   "source": [
    "# Create a list of students and friends (step 2)\n",
    "# Set up the Barabasi model so that 90% of the total links between nodes in the same class are connected. \n",
    "\n",
    "\n",
    "for edu in 4:7\n",
    "    \n",
    "    A = groupby(df, edu)\n",
    "    count = length(A)\n",
    "    \n",
    "    # I = 1 means group = 0 (this is not going to school)\n",
    "    for i in 2:count\n",
    "        df_tmp = A[i]\n",
    "        n = nrow(A[i])\n",
    "        \n",
    "        # You have to take the teacher out of it\n",
    "        id0 = df_tmp[(df_tmp.age .<= 18), :person_id]\n",
    "        n0 = length(id0)\n",
    "        \n",
    "        # shuffle\n",
    "        df_tmp[:, :order] .= rand((1:2*n), n)\n",
    "        df_tmp = sort(df_tmp, [:order])\n",
    "        id = df_tmp[(df_tmp.age .<= 18), :person_id]\n",
    "        \n",
    "        if n0 != sum(id0 .== sort(id))\n",
    "            println(\" ERROR **\")\n",
    "        end\n",
    "\n",
    "        # Generate Network\n",
    "        list = Make_Barabasi_Networks_p09(n0, id)\n",
    "  \n",
    "        # Save to the friends list\n",
    "        append!.(df[id, :friends], list)\n",
    " \n",
    "        df_tmp = nothing\n",
    "    \n",
    "    end\n",
    "    A = nothing\n",
    "end"
   ]
  },
  {
   "cell_type": "code",
   "execution_count": 15,
   "id": "d06e8d36",
   "metadata": {},
   "outputs": [],
   "source": [
    "# Kindergarten,\n",
    "# Create a list of students and friends (Step 3)\n",
    "# Create a concept like school (group3 > region + same age) \n",
    "# Group 10 classes together, redistribute them, and create a Barabasi model.\n",
    "# Set up the Barabasi model so that 90% of the total links connecting the nodes are connected after redistribution. \n",
    "\n",
    "\n",
    "df[!, :\"order\"] .= 0\n",
    "max_group = 10\n",
    "\n",
    "A = groupby(df, [:region_code, :age])\n",
    "count = length(A)\n",
    "\n",
    "cols = 4\n",
    "for rc in 1:250    \n",
    "    for an in 3:6\n",
    "        r, c = size(df[(df.region_code .== rc) .& (df.age .== an), :])\n",
    "        \n",
    "        if r != 0\n",
    "            df_tmp = A[(region_code=rc, age=an,)]\n",
    "            \n",
    "            # How many classes are in the region and age.\n",
    "            n_cls = df_tmp[:, cols]\n",
    "            n_cls = unique(n_cls)\n",
    "            n_cls = sort(n_cls)\n",
    "            n_cls = setdiff(n_cls, [0])\n",
    "            count = length(n_cls)\n",
    "            \n",
    "            if count != 0                     \n",
    "                # How many schools are there\n",
    "                n_group = round(Int64, length(n_cls)/max_group) #length(tmp) ÷ max_group\n",
    "                n_group = (n_group < 1 ? 1 : n_group)\n",
    "                \n",
    "                # Number of classes per school\n",
    "                n_count = round(Int64, count/n_group)\n",
    "                n_count = (n_count < 1 ? 1 : n_count)\n",
    "                                \n",
    "                # Class assignments by school\n",
    "                for i in 1:n_group\n",
    "                    cls_min = n_cls[n_count*(i-1)+1]\n",
    "                    cls_max = n_cls[(n_count*i < count ? n_count*i : count)]\n",
    "                    if i == n_group\n",
    "                        cls_max = n_cls[end]\n",
    "                    end\n",
    "\n",
    "                   \n",
    "                    # You have to take the teacher out of it.\n",
    "                    id = df_tmp[(cls_min .<= df_tmp.pre .<= cls_max) .& (df_tmp.age .<= 18), :person_id]\n",
    "                    n = length(id)\n",
    "                    \n",
    "                    df[id, :group3] .= rand((cls_min:cls_max), n)\n",
    "                    \n",
    "                    B = groupby(df[id, :], :group3)\n",
    "                    nn = length(B)\n",
    "                    \n",
    "                    if nn != (cls_max - cls_min + 1)\n",
    "                        println(\" ERROR ??? \", nn, \" , n_count = \", n_count,\" , ??? \", cls_max - cls_min + 1)\n",
    "                    end\n",
    "                    \n",
    "                    for j in 1:nn\n",
    "                        \n",
    "                        df_tmp2 = B[j]\n",
    "                        n_pop = nrow(B[j])\n",
    "                        id0 = df_tmp2[:, :person_id]\n",
    "                        \n",
    "                        # shuffle\n",
    "                        df_tmp2[:, :order] .= rand((1:2*n_pop), n_pop)\n",
    "                        df_tmp2 = sort(df_tmp2, [:order])\n",
    "                        id2 = df_tmp2[:, :person_id]\n",
    "                        \n",
    "                        if n_pop != sum(id0 .== sort(id2))\n",
    "                            println(\" ERROR **\")\n",
    "                        end\n",
    "\n",
    "                        # Generate Network\n",
    "                        list = Make_Barabasi_Networks_p09(n_pop, id2)\n",
    "\n",
    "                        # Save to the friends list\n",
    "                        append!.(df[id2, :friends], list)\n",
    "\n",
    "                        df_tmp2 = nothing\n",
    "                    end\n",
    "                    B = nothing\n",
    "                    \n",
    "                    df[id, :group3] .= 0\n",
    "                end\n",
    "            end\n",
    "            df_tmp = nothing\n",
    "        end\n",
    "    end\n",
    "end\n",
    "\n",
    "select!(df, Not(:order))\n",
    "A = nothing"
   ]
  },
  {
   "cell_type": "code",
   "execution_count": 16,
   "id": "2df8da94",
   "metadata": {},
   "outputs": [
    {
     "name": "stdout",
     "output_type": "stream",
     "text": [
      " cols = 5\n",
      " cols = 6\n",
      " cols = 7\n"
     ]
    }
   ],
   "source": [
    "# Elementary, junior, and high school : step 3\n",
    "# Same as the cell above\n",
    "\n",
    "df[!, :\"order\"] .= 0\n",
    "max_group = 10\n",
    "\n",
    "A = groupby(df, [:region_code, :age])\n",
    "count = length(A)\n",
    "\n",
    "for cols in 5:7 \n",
    "    println(\" cols = \", cols)\n",
    "    \n",
    "    for rc in 1:250\n",
    "        \n",
    "        if cols == 4 \n",
    "            n_st = 3; n_fi = 6\n",
    "        elseif cols == 5\n",
    "            n_st = 7; n_fi = 12\n",
    "        elseif cols == 6\n",
    "            n_st = 13; n_fi = 15        \n",
    "        elseif cols == 7\n",
    "            n_st = 16; n_fi = 18\n",
    "        end\n",
    "        \n",
    "        for an in n_st:n_fi\n",
    "            r, c = size(df[(df.region_code .== rc) .& (df.age .== an), :])\n",
    "\n",
    "            if r != 0\n",
    "                df_tmp = A[(region_code=rc, age=an,)]\n",
    "\n",
    "                n_cls = df_tmp[:, cols]\n",
    "                n_cls = unique(n_cls)\n",
    "                n_cls = sort(n_cls)\n",
    "                n_cls = setdiff(n_cls, [0])\n",
    "                count = length(n_cls)\n",
    "\n",
    "                if count != 0                     \n",
    "                    n_group = round(Int64, length(n_cls)/max_group) #length(tmp) ÷ max_group\n",
    "                    n_group = (n_group < 1 ? 1 : n_group)\n",
    "\n",
    "                    n_count = round(Int64, count/n_group)\n",
    "                    n_count = (n_count < 1 ? 1 : n_count)\n",
    "\n",
    "                    for i in 1:n_group\n",
    "                        cls_min = n_cls[n_count*(i-1)+1]\n",
    "                        cls_max = n_cls[(n_count*i < count ? n_count*i : count)]\n",
    "                        if i == n_group\n",
    "                            cls_max = n_cls[end]\n",
    "                        end\n",
    "\n",
    "                        if cols == 5\n",
    "                            id = df_tmp[(cls_min .<= df_tmp.elementary .<= cls_max) .& (df_tmp.age .<= 18), :person_id]\n",
    "                        elseif cols == 6\n",
    "                            id = df_tmp[(cls_min .<= df_tmp.junior .<= cls_max) .& (df_tmp.age .<= 18), :person_id]\n",
    "                        elseif cols == 7\n",
    "                            id = df_tmp[(cls_min .<= df_tmp.high .<= cls_max) .& (df_tmp.age .<= 18), :person_id]\n",
    "                        end\n",
    "                        n = length(id)\n",
    "\n",
    "                        df[id, :group3] .= rand((cls_min:cls_max), n)\n",
    "\n",
    "                        B = groupby(df[id, :], :group3)\n",
    "                        nn = length(B)\n",
    "\n",
    "                        if nn != (cls_max - cls_min + 1)\n",
    "                            println(\" ERROR ??? \", nn, \" , n_count = \", n_count,\" , ??? \", cls_max - cls_min + 1)\n",
    "                        end\n",
    "\n",
    "                        for j in 1:nn\n",
    "\n",
    "                            df_tmp2 = B[j]\n",
    "                            n_pop = nrow(B[j])\n",
    "                            id0 = df_tmp2[:, :person_id]\n",
    "\n",
    "                            df_tmp2[:, :order] .= rand((1:2*n_pop), n_pop)\n",
    "                            df_tmp2 = sort(df_tmp2, [:order])\n",
    "                            id2 = df_tmp2[:, :person_id]\n",
    "\n",
    "                            if n_pop != sum(id0 .== sort(id2))\n",
    "                                println(\" ERROR **\")\n",
    "                            end\n",
    "\n",
    "                            list = Make_Barabasi_Networks_p09(n_pop, id2)\n",
    "\n",
    "                            append!.(df[id2, :friends], list)\n",
    "\n",
    "                            df_tmp2 = nothing\n",
    "                        end\n",
    "                        B = nothing\n",
    "\n",
    "                        df[id, :group3] .= 0\n",
    "                    end\n",
    "                end\n",
    "                df_tmp = nothing\n",
    "            end\n",
    "        end\n",
    "    end\n",
    "end\n",
    "\n",
    "select!(df, Not(:order))\n",
    "select!(df, Not(:group3))\n",
    "A = nothing"
   ]
  },
  {
   "cell_type": "code",
   "execution_count": 17,
   "id": "2e0768e8",
   "metadata": {},
   "outputs": [
    {
     "data": {
      "text/html": [
       "<div><div style = \"float: left;\"><span>5×14 DataFrame</span></div><div style = \"clear: both;\"></div></div><div class = \"data-frame\" style = \"overflow-x: scroll;\"><table class = \"data-frame\" style = \"margin-bottom: 6px;\"><thead><tr class = \"header\"><th class = \"rowNumber\" style = \"font-weight: bold; text-align: right;\">Row</th><th style = \"text-align: left;\">house_id</th><th style = \"text-align: left;\">region_code</th><th style = \"text-align: left;\">age</th><th style = \"text-align: left;\">pre</th><th style = \"text-align: left;\">elementary</th><th style = \"text-align: left;\">junior</th><th style = \"text-align: left;\">high</th><th style = \"text-align: left;\">economic_region</th><th style = \"text-align: left;\">office</th><th style = \"text-align: left;\">person_id</th><th style = \"text-align: left;\">friends</th><th style = \"text-align: left;\">group</th><th style = \"text-align: left;\">group2</th><th style = \"text-align: left;\">age_group</th></tr><tr class = \"subheader headerLastRow\"><th class = \"rowNumber\" style = \"font-weight: bold; text-align: right;\"></th><th title = \"Int64\" style = \"text-align: left;\">Int64</th><th title = \"Int64\" style = \"text-align: left;\">Int64</th><th title = \"Int64\" style = \"text-align: left;\">Int64</th><th title = \"Int64\" style = \"text-align: left;\">Int64</th><th title = \"Int64\" style = \"text-align: left;\">Int64</th><th title = \"Int64\" style = \"text-align: left;\">Int64</th><th title = \"Int64\" style = \"text-align: left;\">Int64</th><th title = \"Int64\" style = \"text-align: left;\">Int64</th><th title = \"Int64\" style = \"text-align: left;\">Int64</th><th title = \"Int64\" style = \"text-align: left;\">Int64</th><th title = \"Vector{Int64}\" style = \"text-align: left;\">Array…</th><th title = \"Int64\" style = \"text-align: left;\">Int64</th><th title = \"Int64\" style = \"text-align: left;\">Int64</th><th title = \"Int64\" style = \"text-align: left;\">Int64</th></tr></thead><tbody><tr><td class = \"rowNumber\" style = \"font-weight: bold; text-align: right;\">1</td><td style = \"text-align: right;\">1</td><td style = \"text-align: right;\">168</td><td style = \"text-align: right;\">63</td><td style = \"text-align: right;\">0</td><td style = \"text-align: right;\">0</td><td style = \"text-align: right;\">0</td><td style = \"text-align: right;\">0</td><td style = \"text-align: right;\">168</td><td style = \"text-align: right;\">3584990</td><td style = \"text-align: right;\">1</td><td style = \"text-align: left;\">[7282442, 12949292, 1831311, 42227565, 33986382, 298291, 15960249, 16182219, 30322853, 9218036  …  38196387, 24974722, 31823635, 29915129, 42229493, 12954042, 46531742, 17708656, 14457351, 38176399]</td><td style = \"text-align: right;\">178745</td><td style = \"text-align: right;\">0</td><td style = \"text-align: right;\">7</td></tr><tr><td class = \"rowNumber\" style = \"font-weight: bold; text-align: right;\">2</td><td style = \"text-align: right;\">1</td><td style = \"text-align: right;\">168</td><td style = \"text-align: right;\">85</td><td style = \"text-align: right;\">0</td><td style = \"text-align: right;\">0</td><td style = \"text-align: right;\">0</td><td style = \"text-align: right;\">0</td><td style = \"text-align: right;\">0</td><td style = \"text-align: right;\">0</td><td style = \"text-align: right;\">2</td><td style = \"text-align: left;\">[34039199, 11848888, 16776962, 49845195, 11266856, 32541754, 6874537, 38637919, 50400289, 15932193  …  42775331, 19627264, 15463744, 50182146, 14059364, 44200790, 6874597, 31027310, 42856889, 37677448]</td><td style = \"text-align: right;\">179007</td><td style = \"text-align: right;\">0</td><td style = \"text-align: right;\">9</td></tr><tr><td class = \"rowNumber\" style = \"font-weight: bold; text-align: right;\">3</td><td style = \"text-align: right;\">2</td><td style = \"text-align: right;\">168</td><td style = \"text-align: right;\">63</td><td style = \"text-align: right;\">0</td><td style = \"text-align: right;\">0</td><td style = \"text-align: right;\">0</td><td style = \"text-align: right;\">0</td><td style = \"text-align: right;\">168</td><td style = \"text-align: right;\">3578518</td><td style = \"text-align: right;\">3</td><td style = \"text-align: left;\">[42227541, 1248544, 38849896, 12633486, 48247118, 4992977, 10103496, 1126396, 42995676, 14373582  …  14933077, 12616105, 39658326, 35320913, 22750738, 41336614, 15960302, 25562272, 18879117, 25208925]</td><td style = \"text-align: right;\">178747</td><td style = \"text-align: right;\">0</td><td style = \"text-align: right;\">7</td></tr><tr><td class = \"rowNumber\" style = \"font-weight: bold; text-align: right;\">4</td><td style = \"text-align: right;\">2</td><td style = \"text-align: right;\">168</td><td style = \"text-align: right;\">85</td><td style = \"text-align: right;\">0</td><td style = \"text-align: right;\">0</td><td style = \"text-align: right;\">0</td><td style = \"text-align: right;\">0</td><td style = \"text-align: right;\">0</td><td style = \"text-align: right;\">0</td><td style = \"text-align: right;\">4</td><td style = \"text-align: left;\">[36679308, 50184042, 47822992, 51223638, 23718638, 36325530, 42227743, 27874966, 35842872, 268146  …  3138664, 14058044, 26449168, 14263992, 40069467, 50185458, 29117269, 50184312, 24127201, 14373685]</td><td style = \"text-align: right;\">179001</td><td style = \"text-align: right;\">0</td><td style = \"text-align: right;\">9</td></tr><tr><td class = \"rowNumber\" style = \"font-weight: bold; text-align: right;\">5</td><td style = \"text-align: right;\">3</td><td style = \"text-align: right;\">168</td><td style = \"text-align: right;\">63</td><td style = \"text-align: right;\">0</td><td style = \"text-align: right;\">0</td><td style = \"text-align: right;\">0</td><td style = \"text-align: right;\">0</td><td style = \"text-align: right;\">168</td><td style = \"text-align: right;\">3568330</td><td style = \"text-align: right;\">5</td><td style = \"text-align: left;\">[22861087, 50165189, 44682802, 1248478, 51381860, 29607144, 38816931, 29839811, 20069792, 26994801  …  9953357, 25208929, 1831350, 25193332, 27721211, 37281020, 15305439, 40408353, 42566315, 51380040]</td><td style = \"text-align: right;\">178780</td><td style = \"text-align: right;\">0</td><td style = \"text-align: right;\">7</td></tr></tbody></table></div>"
      ],
      "text/latex": [
       "\\begin{tabular}{r|ccccccccc}\n",
       "\t& house\\_id & region\\_code & age & pre & elementary & junior & high & economic\\_region & \\\\\n",
       "\t\\hline\n",
       "\t& Int64 & Int64 & Int64 & Int64 & Int64 & Int64 & Int64 & Int64 & \\\\\n",
       "\t\\hline\n",
       "\t1 & 1 & 168 & 63 & 0 & 0 & 0 & 0 & 168 & $\\dots$ \\\\\n",
       "\t2 & 1 & 168 & 85 & 0 & 0 & 0 & 0 & 0 & $\\dots$ \\\\\n",
       "\t3 & 2 & 168 & 63 & 0 & 0 & 0 & 0 & 168 & $\\dots$ \\\\\n",
       "\t4 & 2 & 168 & 85 & 0 & 0 & 0 & 0 & 0 & $\\dots$ \\\\\n",
       "\t5 & 3 & 168 & 63 & 0 & 0 & 0 & 0 & 168 & $\\dots$ \\\\\n",
       "\\end{tabular}\n"
      ],
      "text/plain": [
       "\u001b[1m5×14 DataFrame\u001b[0m\n",
       "\u001b[1m Row \u001b[0m│\u001b[1m house_id \u001b[0m\u001b[1m region_code \u001b[0m\u001b[1m age   \u001b[0m\u001b[1m pre   \u001b[0m\u001b[1m elementary \u001b[0m\u001b[1m junior \u001b[0m\u001b[1m high  \u001b[0m\u001b[1m economi\u001b[0m ⋯\n",
       "     │\u001b[90m Int64    \u001b[0m\u001b[90m Int64       \u001b[0m\u001b[90m Int64 \u001b[0m\u001b[90m Int64 \u001b[0m\u001b[90m Int64      \u001b[0m\u001b[90m Int64  \u001b[0m\u001b[90m Int64 \u001b[0m\u001b[90m Int64  \u001b[0m ⋯\n",
       "─────┼──────────────────────────────────────────────────────────────────────────\n",
       "   1 │        1          168     63      0           0       0      0          ⋯\n",
       "   2 │        1          168     85      0           0       0      0\n",
       "   3 │        2          168     63      0           0       0      0\n",
       "   4 │        2          168     85      0           0       0      0\n",
       "   5 │        3          168     63      0           0       0      0          ⋯\n",
       "\u001b[36m                                                               7 columns omitted\u001b[0m"
      ]
     },
     "execution_count": 17,
     "metadata": {},
     "output_type": "execute_result"
    }
   ],
   "source": [
    "# Copy data just in case\n",
    "\n",
    "df2 = deepcopy(df)\n",
    "first(df2, 5)"
   ]
  },
  {
   "cell_type": "code",
   "execution_count": 18,
   "id": "b1349903",
   "metadata": {},
   "outputs": [
    {
     "name": "stdout",
     "output_type": "stream",
     "text": [
      " \n"
     ]
    }
   ],
   "source": [
    "# This is taking forever\n",
    "# Students' friends can overlap, so we need to remove the duplicates\n",
    "# Organize them in ascending order for easier viewing\n",
    "\n",
    "df2[:, :friends] .= unique.(df2[:, :friends])\n",
    "df2[:, :friends] .= sort.(df2[:, :friends])\n",
    "\n",
    "println(\" \")"
   ]
  },
  {
   "cell_type": "code",
   "execution_count": 19,
   "id": "51e303fe",
   "metadata": {},
   "outputs": [
    {
     "name": "stdout",
     "output_type": "stream",
     "text": [
      " \n"
     ]
    }
   ],
   "source": [
    "df2[!, :\"n_friends\"] .= length.(df2[:, :friends])\n",
    "println(\" \")"
   ]
  },
  {
   "cell_type": "code",
   "execution_count": 20,
   "id": "9fdf21b9",
   "metadata": {},
   "outputs": [
    {
     "name": "stdout",
     "output_type": "stream",
     "text": [
      " \n"
     ]
    }
   ],
   "source": [
    "select!(df2, Not(:house_id))\n",
    "select!(df2, Not(:region_code))\n",
    "select!(df2, Not(:age))\n",
    "#select!(df2, Not(:person_id))\n",
    "select!(df2, Not(:pre))\n",
    "select!(df2, Not(:elementary))\n",
    "select!(df2, Not(:junior))\n",
    "select!(df2, Not(:high))\n",
    "select!(df2, Not(:economic_region))\n",
    "select!(df2, Not(:office))\n",
    "select!(df2, Not(:group))\n",
    "select!(df2, Not(:group2))\n",
    "select!(df2, Not(:age_group))\n",
    "println(\" \")"
   ]
  },
  {
   "cell_type": "code",
   "execution_count": 21,
   "id": "03c4dc28",
   "metadata": {},
   "outputs": [
    {
     "name": "stdout",
     "output_type": "stream",
     "text": [
      "\u001b[1m2×3 DataFrame\u001b[0m\n",
      "\u001b[1m Row \u001b[0m│\u001b[1m person_id \u001b[0m\u001b[1m friends                           \u001b[0m\u001b[1m n_friends \u001b[0m\n",
      "     │\u001b[90m Int64     \u001b[0m\u001b[90m Array…                            \u001b[0m\u001b[90m Int64     \u001b[0m\n",
      "─────┼─────────────────────────────────────────────────────────\n",
      "   1 │         1  [298291, 566248, 1831311, 484682…         64\n",
      "   2 │         2  [6874537, 6874597, 11266856, 118…         23"
     ]
    }
   ],
   "source": [
    "# Save CSV File\n",
    "\n",
    "CSV.write(\"synthetic_population_friends.csv\", df2)\n",
    "\n",
    "show(df2[1:2,:], allcols=true)"
   ]
  },
  {
   "cell_type": "code",
   "execution_count": 22,
   "id": "7dfce66f",
   "metadata": {},
   "outputs": [
    {
     "name": "stdout",
     "output_type": "stream",
     "text": [
      "39.1207278852515\n",
      "181\n"
     ]
    },
    {
     "data": {
      "text/plain": [
       "\"/Users/mkchae/Desktop/epid/IBM/Mk_friends.png\""
      ]
     },
     "execution_count": 22,
     "metadata": {},
     "output_type": "execute_result"
    }
   ],
   "source": [
    "# Save histogram\n",
    "\n",
    "n_fri = df2[:, :n_friends]\n",
    "println(mean(n_fri))\n",
    "println(maximum(n_fri))\n",
    "\n",
    "histogram(n_fri, color = \"darkgreen\", lw = 10, xlabel = \"friends #\", ylabel = \"population\", bins = 0:1:maximum(n_fri)+1, width = 0.9, leg = false, normalization = :pdf, size = (600, 450), legned = :false, dpi = 1000, background_color = :transparent, foreground_color=:black)\n",
    "savefig(\"./friends.png\")"
   ]
  },
  {
   "cell_type": "code",
   "execution_count": null,
   "id": "a1393788",
   "metadata": {},
   "outputs": [],
   "source": []
  },
  {
   "cell_type": "code",
   "execution_count": null,
   "id": "aa901a5e",
   "metadata": {},
   "outputs": [],
   "source": []
  },
  {
   "cell_type": "code",
   "execution_count": null,
   "id": "3be001a6",
   "metadata": {},
   "outputs": [],
   "source": []
  }
 ],
 "metadata": {
  "kernelspec": {
   "display_name": "Julia 1.9.1",
   "language": "julia",
   "name": "julia-1.9"
  },
  "language_info": {
   "file_extension": ".jl",
   "mimetype": "application/julia",
   "name": "julia",
   "version": "1.9.2"
  }
 },
 "nbformat": 4,
 "nbformat_minor": 5
}
